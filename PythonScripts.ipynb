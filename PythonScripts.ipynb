{
 "cells": [
  {
   "cell_type": "code",
   "execution_count": 17,
   "metadata": {},
   "outputs": [
    {
     "name": "stdout",
     "output_type": "stream",
     "text": [
      "Input characters: (Press 'ESC' to exit.)\n",
      "'d'\n",
      "'s'\n",
      "'a'\n",
      "Key.tab\n",
      "Key.esc\n",
      "Program ended\n"
     ]
    }
   ],
   "source": [
    "# 1\n",
    "from pynput.keyboard import Key, Listener\n",
    "    \n",
    "path = \"output1.txt\"\n",
    "content = open(path, \"w\")\n",
    "counter = 0\n",
    "\n",
    "def on_press(key):\n",
    "    print(str(key))\n",
    "    global counter\n",
    "    if key in [Key.space, Key.delete, Key.backspace, Key.tab]:\n",
    "        counter = counter + 1\n",
    "    \n",
    "def on_release(key):\n",
    "    if key == Key.esc:\n",
    "        return False\n",
    "\n",
    "print('Input characters: (Press \\'ESC\\' to exit.)')\n",
    "# Collect events until released\n",
    "with Listener(\n",
    "        on_press=on_press,\n",
    "        on_release=on_release) as listener:\n",
    "    listener.join()\n",
    "\n",
    "content.write(\"Illegal key buttons and whitespaces found: \" + str(counter))\n",
    "content.close()\n",
    "print('Program ended')"
   ]
  },
  {
   "cell_type": "code",
   "execution_count": 15,
   "metadata": {},
   "outputs": [
    {
     "name": "stdout",
     "output_type": "stream",
     "text": [
      "// prints Hello World\n",
      "/* This is a comment */\n",
      "/* C++ comments can also\n",
      "   * span multiple lines\n",
      "*/\n"
     ]
    }
   ],
   "source": [
    "# 2\n",
    "import re\n",
    "\n",
    "path = \"cppcode.txt\"\n",
    "file = open(path, \"r\")\n",
    "content = file.read()\n",
    "\n",
    "matches = re.findall(\"(\\/\\*(.*|[\\s\\S]*)\\*\\/|\\/\\/(.*))\", content)\n",
    "for match in matches:\n",
    "    print(match[0])\n",
    "file.close()"
   ]
  },
  {
   "cell_type": "code",
   "execution_count": 47,
   "metadata": {},
   "outputs": [
    {
     "name": "stdout",
     "output_type": "stream",
     "text": [
      "Text of url:\n",
      "Google   Αναζήτηση   Εικόνες   Χάρτες   Play   YouTube   Ειδήσεις   Gmail   Drive   Περισσότερα  » Ιστορικό ιστού  |  Ρυθμίσεις  |  Είσοδος     Σύνθετη αναζήτηση Εργ. γλώσσας Προγράμματα διαφήμισης Λύσεις για επιχειρήσεις Σχετικά με τη Google Google.gr © 2019 -  Απόρρητο  -  Όροι   \n",
      "\n",
      "Most popular character: 'ι', with count: 16\n"
     ]
    }
   ],
   "source": [
    "# 3\n",
    "import requests\n",
    "from collections import Counter\n",
    "from bs4 import BeautifulSoup\n",
    "\n",
    "url = 'https://google.com/'\n",
    "res = requests.get(url)\n",
    "html_page = res.content\n",
    "soup = BeautifulSoup(html_page, 'html.parser')\n",
    "text = soup.find_all(text=True)\n",
    "\n",
    "output = ''\n",
    "blacklist = [\n",
    "    '[document]',\n",
    "    'noscript',\n",
    "    'header',\n",
    "    'html',\n",
    "    'meta',\n",
    "    'head', \n",
    "    'input',\n",
    "    'script',\n",
    "    'style'\n",
    "]\n",
    "\n",
    "for t in text:\n",
    "    if t.parent.name not in blacklist:\n",
    "        output += '{} '.format(t)\n",
    "\n",
    "print(\"Text of url:\")\n",
    "print(output)\n",
    "print()\n",
    "\n",
    "character_popularities = Counter(x for x in output if not x.isspace()).most_common()\n",
    "print(\"Most popular character: \\'\" + str(character_popularities[0][0]) + \"\\', with count: \" + str(character_popularities[0][1]))"
   ]
  },
  {
   "cell_type": "code",
   "execution_count": 3,
   "metadata": {},
   "outputs": [
    {
     "name": "stdout",
     "output_type": "stream",
     "text": [
      "Input line (enter 'Exit' to stop):()\n",
      "Line is balanced\n",
      "Input line (enter 'Exit' to stop):())\n",
      "Line is unbalanced\n",
      "Input line (enter 'Exit' to stop):exit\n"
     ]
    }
   ],
   "source": [
    "# 4\n",
    "\n",
    "def checkBalancedParenthesis(line):  \n",
    "    # input additional parentheses types if you want\n",
    "    open_tup = tuple('(') # tuple('[(etc')\n",
    "    close_tup = tuple(')') \n",
    "    map = dict(zip(open_tup, close_tup)) \n",
    "    queue = [] \n",
    "  \n",
    "    for i in line: \n",
    "        if i in open_tup: \n",
    "            queue.append(map[i]) \n",
    "        elif i in close_tup: \n",
    "            if not queue or i != queue.pop(): \n",
    "                return False\n",
    "    return True\n",
    "  \n",
    "while True:\n",
    "    inputString = input(\"Input line (enter \\'Exit\\' to stop):\")\n",
    "    if inputString.lower() == \"exit\":\n",
    "        break\n",
    "    result = checkBalancedParenthesis(inputString)\n",
    "    if result == True:\n",
    "        print(\"Line is balanced\")\n",
    "    else:\n",
    "        print(\"Line is unbalanced\")"
   ]
  },
  {
   "cell_type": "code",
   "execution_count": null,
   "metadata": {},
   "outputs": [],
   "source": []
  }
 ],
 "metadata": {
  "kernelspec": {
   "display_name": "Python 3",
   "language": "python",
   "name": "python3"
  },
  "language_info": {
   "codemirror_mode": {
    "name": "ipython",
    "version": 3
   },
   "file_extension": ".py",
   "mimetype": "text/x-python",
   "name": "python",
   "nbconvert_exporter": "python",
   "pygments_lexer": "ipython3",
   "version": "3.7.3"
  }
 },
 "nbformat": 4,
 "nbformat_minor": 2
}
